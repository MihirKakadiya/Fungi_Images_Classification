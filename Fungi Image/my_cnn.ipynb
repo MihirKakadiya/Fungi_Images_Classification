{
  "metadata": {
    "kernelspec": {
      "language": "python",
      "display_name": "Python 3",
      "name": "python3"
    },
    "language_info": {
      "name": "python",
      "version": "3.10.12",
      "mimetype": "text/x-python",
      "codemirror_mode": {
        "name": "ipython",
        "version": 3
      },
      "pygments_lexer": "ipython3",
      "nbconvert_exporter": "python",
      "file_extension": ".py"
    },
    "kaggle": {
      "accelerator": "nvidiaTeslaT4",
      "dataSources": [
        {
          "sourceId": 6735188,
          "sourceType": "datasetVersion",
          "datasetId": 3878683
        }
      ],
      "dockerImageVersionId": 30588,
      "isInternetEnabled": true,
      "language": "python",
      "sourceType": "notebook",
      "isGpuEnabled": true
    },
    "colab": {
      "provenance": []
    }
  },
  "nbformat_minor": 0,
  "nbformat": 4,
  "cells": [
    {
      "cell_type": "code",
      "source": [
        "# Basic data manipulations\n",
        "import pandas as pd\n",
        "import numpy as np\n",
        "\n",
        "\n",
        "# Handling images\n",
        "from PIL import Image\n",
        "import matplotlib.pyplot as plt\n",
        "\n",
        "# Handling paths\n",
        "\n",
        "import time\n",
        "\n",
        "# Pytorch essentials\n",
        "import torch\n",
        "import torch.nn as nn\n",
        "import torch.nn.functional as F\n",
        "import torch.optim as optim\n",
        "from torch.optim import lr_scheduler\n",
        "from torchvision import models\n",
        "from torchvision.datasets import ImageFolder\n",
        "! pip install torchsummary\n",
        "import torchsummary\n",
        "\n",
        "\n",
        "\n",
        "# Pytorch essentials for datasets.\n",
        "from torch.utils.data.sampler import SubsetRandomSampler\n",
        "from torch.utils.data import Dataset\n",
        "from torch.utils.data import DataLoader\n",
        "\n",
        "# Pytorch way of data augmentation.\n",
        "import torchvision\n",
        "from torchvision import datasets, models, transforms, utils\n",
        "from torchvision.transforms import v2\n",
        "\n",
        "import cv2\n",
        "import os\n",
        "from glob import glob\n",
        "from tqdm import tqdm\n",
        "import shutil\n",
        "from sklearn.model_selection import train_test_split"
      ],
      "metadata": {
        "execution": {
          "iopub.status.busy": "2023-12-08T05:42:49.824951Z",
          "iopub.execute_input": "2023-12-08T05:42:49.825335Z",
          "iopub.status.idle": "2023-12-08T05:43:01.509083Z",
          "shell.execute_reply.started": "2023-12-08T05:42:49.825303Z",
          "shell.execute_reply": "2023-12-08T05:43:01.507978Z"
        },
        "trusted": true,
        "id": "z-e0TjXuoEDq",
        "outputId": "558b658f-50f1-430a-e739-2851e7a10d0a"
      },
      "execution_count": null,
      "outputs": [
        {
          "name": "stdout",
          "text": "Requirement already satisfied: torchsummary in /opt/conda/lib/python3.10/site-packages (1.5.1)\n",
          "output_type": "stream"
        }
      ]
    },
    {
      "cell_type": "code",
      "source": [
        "root_path = '/drive/input/defungi'\n",
        "df = pd.DataFrame({\"path\":[],\"label\":[], \"class_id\":[]})\n",
        "label_dict = {\n",
        "    \"H1\":0,\n",
        "    \"H2\":1,\n",
        "    \"H3\":2,\n",
        "    \"H5\":3,\n",
        "    \"H6\":4,\n",
        "}\n",
        "for key in label_dict:\n",
        "    img_path = os.path.join(root_path, key)\n",
        "    jpg_list = glob(img_path+'/*.jpg')\n",
        "    for jpg in jpg_list:\n",
        "        new_data =pd.DataFrame({\"path\":jpg,\"label\":key, \"class_id\":label_dict[key]}, index=[1])\n",
        "        df = pd.concat([df, new_data], ignore_index=True)\n",
        "\n",
        "df[[\"path\"]] = df[[\"path\"]].astype(str)\n",
        "df[[\"label\"]] = df[[\"label\"]].astype(str)\n",
        "df[[\"class_id\"]] = df[[\"class_id\"]].astype(int)"
      ],
      "metadata": {
        "execution": {
          "iopub.status.busy": "2023-12-08T05:43:01.511127Z",
          "iopub.execute_input": "2023-12-08T05:43:01.511431Z",
          "iopub.status.idle": "2023-12-08T05:43:08.034042Z",
          "shell.execute_reply.started": "2023-12-08T05:43:01.511399Z",
          "shell.execute_reply": "2023-12-08T05:43:08.032964Z"
        },
        "trusted": true,
        "id": "IMzkCJdnoEDu"
      },
      "execution_count": null,
      "outputs": []
    },
    {
      "cell_type": "code",
      "source": [
        "train_transforms = v2.Compose([\n",
        "    v2.Resize(256),\n",
        "    v2.RandomResizedCrop(size=(224, 224), antialias=True),\n",
        "    v2.RandomHorizontalFlip(p=0.5),\n",
        "    v2.RandomVerticalFlip(p=0.5),\n",
        "    v2.RandomAffine(degrees=(-10, 10), translate=(0.1, 0.1), scale=(0.9, 1.1)),\n",
        "    v2.RandomErasing(p=0.5, scale=(0.1,0.15)),\n",
        "    v2.PILToTensor(),\n",
        "    v2.ToDtype(torch.float32),\n",
        "    v2.Normalize(mean=[0.485, 0.456, 0.406], std=[0.229, 0.224, 0.225]),\n",
        "\n",
        "])\n",
        "\n",
        "test_transforms = v2.Compose([\n",
        "    v2.Resize((224,224)),\n",
        "    v2.PILToTensor(),\n",
        "    v2.ToDtype(torch.float32),\n",
        "    v2.Normalize(mean=[0.485, 0.456, 0.406],std=[0.229, 0.224, 0.225])\n",
        "])"
      ],
      "metadata": {
        "execution": {
          "iopub.status.busy": "2023-12-08T05:43:08.035446Z",
          "iopub.execute_input": "2023-12-08T05:43:08.035770Z",
          "iopub.status.idle": "2023-12-08T05:43:08.159981Z",
          "shell.execute_reply.started": "2023-12-08T05:43:08.035744Z",
          "shell.execute_reply": "2023-12-08T05:43:08.159184Z"
        },
        "trusted": true,
        "id": "5t5sP8c-oEDv"
      },
      "execution_count": null,
      "outputs": []
    },
    {
      "cell_type": "code",
      "source": [
        "class MyDataset(torch.utils.data.Dataset):\n",
        "    def __init__(self, dataframe, transforms_):\n",
        "        self.df = dataframe\n",
        "        self.transforms_ = transforms_\n",
        "\n",
        "    def __len__(self):\n",
        "        return len(self.df)\n",
        "\n",
        "    def __getitem__(self, index):\n",
        "        image_path = self.df.iloc[index]['path']\n",
        "\n",
        "        img = Image.open(image_path).convert(\"RGB\")\n",
        "\n",
        "        transformed_img = self.transforms_(img)\n",
        "        class_id = self.df.iloc[index]['class_id']\n",
        "        return transformed_img, class_id"
      ],
      "metadata": {
        "execution": {
          "iopub.status.busy": "2023-12-08T05:43:08.161193Z",
          "iopub.execute_input": "2023-12-08T05:43:08.161494Z",
          "iopub.status.idle": "2023-12-08T05:43:08.168506Z",
          "shell.execute_reply.started": "2023-12-08T05:43:08.161467Z",
          "shell.execute_reply": "2023-12-08T05:43:08.167673Z"
        },
        "trusted": true,
        "id": "6h48-FIroEDw"
      },
      "execution_count": null,
      "outputs": []
    },
    {
      "cell_type": "code",
      "source": [
        "device = torch.device(\"cuda\" if torch.cuda.is_available else \"cpu\")\n",
        "num_workers = 2 if device=='cuda' else 4\n",
        "\n",
        "train_df, val_df = train_test_split(df,test_size=0.2)\n",
        "train_dataset = MyDataset(train_df, train_transforms)\n",
        "val_dataset = MyDataset(val_df, test_transforms)\n",
        "\n",
        "BATCH_SIZE = 8\n",
        "train_loader = DataLoader(train_dataset, batch_size=BATCH_SIZE,shuffle=True)\n",
        "val_loader = DataLoader(val_dataset, batch_size=BATCH_SIZE)"
      ],
      "metadata": {
        "execution": {
          "iopub.status.busy": "2023-12-08T05:43:08.172232Z",
          "iopub.execute_input": "2023-12-08T05:43:08.172931Z",
          "iopub.status.idle": "2023-12-08T05:43:08.184884Z",
          "shell.execute_reply.started": "2023-12-08T05:43:08.172892Z",
          "shell.execute_reply": "2023-12-08T05:43:08.184120Z"
        },
        "trusted": true,
        "id": "s_5liiNaoEDw"
      },
      "execution_count": null,
      "outputs": []
    },
    {
      "cell_type": "code",
      "source": [
        "dataiter = iter(train_loader)\n",
        "\n",
        "images,labels = next(dataiter)\n",
        "\n",
        "print(type(images))\n",
        "\n",
        "print(images.shape)"
      ],
      "metadata": {
        "execution": {
          "iopub.status.busy": "2023-12-08T05:43:08.186027Z",
          "iopub.execute_input": "2023-12-08T05:43:08.186350Z",
          "iopub.status.idle": "2023-12-08T05:43:08.446301Z",
          "shell.execute_reply.started": "2023-12-08T05:43:08.186322Z",
          "shell.execute_reply": "2023-12-08T05:43:08.445288Z"
        },
        "trusted": true,
        "id": "IvwpCc2aoEDx",
        "outputId": "f1e5ef89-b66f-4afc-bd1b-f9b14bcca1ac"
      },
      "execution_count": null,
      "outputs": [
        {
          "name": "stdout",
          "text": "<class 'torch.Tensor'>\ntorch.Size([8, 3, 224, 224])\n",
          "output_type": "stream"
        }
      ]
    },
    {
      "cell_type": "code",
      "source": [
        "import torch\n",
        "import torch.nn as nn\n",
        "import torch.nn.functional as F\n",
        "\n",
        "class SimpleCNN(nn.Module):\n",
        "    def __init__(self):\n",
        "        super(SimpleCNN, self).__init__()\n",
        "        self.conv1 = nn.Conv2d(3, 16, kernel_size=3, stride=1, padding=1)\n",
        "        self.conv2 = nn.Conv2d(16, 32, kernel_size=3, stride=1, padding=1)\n",
        "        self.conv3 = nn.Conv2d(32, 64, kernel_size=3, stride=1, padding=1)\n",
        "        self.pool = nn.MaxPool2d(kernel_size=2, stride=2, padding=0)\n",
        "        self.fc1 = nn.Linear(64 * 28*28, 512)\n",
        "        self.fc2 = nn.Linear(512, 10)\n",
        "\n",
        "    def forward(self, x):\n",
        "        x = self.pool(F.relu(self.conv1(x)))\n",
        "        x = self.pool(F.relu(self.conv2(x)))\n",
        "        x = self.pool(F.relu(self.conv3(x)))\n",
        "        x = x.view(-1, 64 * 28 * 28)\n",
        "        x = F.relu(self.fc1(x))\n",
        "        x = self.fc2(x)\n",
        "        return x\n",
        "\n",
        "\n",
        "model = SimpleCNN()\n",
        "\n",
        "print(model)\n"
      ],
      "metadata": {
        "execution": {
          "iopub.status.busy": "2023-12-08T05:43:08.476217Z",
          "iopub.execute_input": "2023-12-08T05:43:08.477119Z",
          "iopub.status.idle": "2023-12-08T05:43:08.703793Z",
          "shell.execute_reply.started": "2023-12-08T05:43:08.477091Z",
          "shell.execute_reply": "2023-12-08T05:43:08.702885Z"
        },
        "trusted": true,
        "id": "mBeVsGKCoEDy",
        "outputId": "aa205350-db59-497f-e86e-5b53820165df"
      },
      "execution_count": null,
      "outputs": [
        {
          "name": "stdout",
          "text": "SimpleCNN(\n  (conv1): Conv2d(3, 16, kernel_size=(3, 3), stride=(1, 1), padding=(1, 1))\n  (conv2): Conv2d(16, 32, kernel_size=(3, 3), stride=(1, 1), padding=(1, 1))\n  (conv3): Conv2d(32, 64, kernel_size=(3, 3), stride=(1, 1), padding=(1, 1))\n  (pool): MaxPool2d(kernel_size=2, stride=2, padding=0, dilation=1, ceil_mode=False)\n  (fc1): Linear(in_features=50176, out_features=512, bias=True)\n  (fc2): Linear(in_features=512, out_features=10, bias=True)\n)\n",
          "output_type": "stream"
        }
      ]
    },
    {
      "cell_type": "code",
      "source": [
        "def train(dataloader, model, loss_fn, optimizer):\n",
        "    size = len(dataloader.dataset)\n",
        "    num_batches = len(dataloader)\n",
        "    model.train()\n",
        "    epoch_loss = 0.0\n",
        "    epoch_correct = 0\n",
        "    for (data_,target_) in dataloader:\n",
        "        target_ = target_.type(torch.LongTensor)\n",
        "        data_, target_ = data_.to(device), target_.to(device)\n",
        "\n",
        "\n",
        "        optimizer.zero_grad()\n",
        "\n",
        "\n",
        "        outputs = model(data_)\n",
        "\n",
        "\n",
        "        loss = criterion(outputs,target_)\n",
        "\n",
        "\n",
        "        loss.backward()\n",
        "\n",
        "\n",
        "        optimizer.step()\n",
        "\n",
        "\n",
        "        epoch_loss = epoch_loss + loss.item()\n",
        "        _,pred = torch.max(outputs,dim=1)\n",
        "        epoch_correct = epoch_correct + torch.sum(pred == target_).item()\n",
        "    return epoch_correct/size, epoch_loss/num_batches\n",
        "\n",
        "def test(dataloader, model, loss_fn):\n",
        "    size = len(dataloader.dataset)\n",
        "    num_batches = len(dataloader)\n",
        "    epoch_loss = 0.0\n",
        "    epoch_correct = 0\n",
        "    with torch.no_grad():\n",
        "\n",
        "        model.eval()\n",
        "        for (data_,target_) in dataloader:\n",
        "            target_ = target_.type(torch.LongTensor)\n",
        "            data_, target_ = data_.to(device), target_.to(device)\n",
        "\n",
        "\n",
        "            outputs = model(data_)\n",
        "\n",
        "\n",
        "            loss = criterion(outputs,target_)\n",
        "\n",
        "            epoch_loss = epoch_loss + loss.item()\n",
        "            _,pred = torch.max(outputs,dim=1)\n",
        "            epoch_correct = epoch_correct + torch.sum(pred == target_).item()\n",
        "    return  epoch_correct/size, epoch_loss/num_batches"
      ],
      "metadata": {
        "execution": {
          "iopub.status.busy": "2023-12-08T05:44:21.140224Z",
          "iopub.execute_input": "2023-12-08T05:44:21.141111Z",
          "iopub.status.idle": "2023-12-08T05:44:21.152834Z",
          "shell.execute_reply.started": "2023-12-08T05:44:21.141072Z",
          "shell.execute_reply": "2023-12-08T05:44:21.151925Z"
        },
        "trusted": true,
        "id": "5j8vouUVoEDz"
      },
      "execution_count": null,
      "outputs": []
    },
    {
      "cell_type": "code",
      "source": [
        "model.to(device)\n",
        "EPOCHS = 50\n",
        "\n",
        "logs = {\n",
        "    'train_loss': [], 'train_acc': [], 'val_loss': [], 'val_acc': []\n",
        "}\n",
        "\n",
        "criterion  = nn.CrossEntropyLoss()\n",
        "learning_rate = 0.0001\n",
        "momentum = 0.9\n",
        "optimizer = torch.optim.AdamW(model.parameters(), lr=learning_rate)\n",
        "\n",
        "\n",
        "# Earlystopping\n",
        "patience = 5\n",
        "counter = 0\n",
        "best_loss = np.inf\n",
        "\n",
        "for epoch in tqdm(range(EPOCHS)):\n",
        "    train_acc, train_loss,  = train(train_loader, model, criterion, optimizer)\n",
        "    val_acc, val_loss = test(val_loader, model, criterion)\n",
        "    print(f'EPOCH: {epoch} \\\n",
        "    train_loss: {train_loss:.4f}, train_acc: {train_acc:.3f} \\\n",
        "    val_loss: {val_loss:.4f}, val_acc: {val_acc:.3f}')\n",
        "\n",
        "    logs['train_loss'].append(train_loss)\n",
        "    logs['train_acc'].append(train_acc)\n",
        "    logs['val_loss'].append(val_loss)\n",
        "    logs['val_acc'].append(val_acc)\n",
        "    torch.save(model.state_dict(), \"last.pth\")\n",
        "\n",
        "    if val_loss < best_loss:\n",
        "        counter = 0\n",
        "        best_loss = val_loss\n",
        "        torch.save(model.state_dict(), \"best.pth\")\n",
        "    else:\n",
        "        counter += 1\n",
        "    if counter >= patience:\n",
        "        print(\"Earlystop!\")\n",
        "        break"
      ],
      "metadata": {
        "execution": {
          "iopub.status.busy": "2023-12-08T05:44:22.419546Z",
          "iopub.execute_input": "2023-12-08T05:44:22.419877Z",
          "iopub.status.idle": "2023-12-08T06:31:49.277343Z",
          "shell.execute_reply.started": "2023-12-08T05:44:22.419851Z",
          "shell.execute_reply": "2023-12-08T06:31:49.276340Z"
        },
        "trusted": true,
        "id": "m-s2dwc-oEDz",
        "outputId": "4bf70d98-c417-446f-94fe-1b89d6056a6a"
      },
      "execution_count": null,
      "outputs": [
        {
          "name": "stderr",
          "text": "  0%|          | 0/50 [00:00<?, ?it/s]",
          "output_type": "stream"
        },
        {
          "name": "stdout",
          "text": "EPOCH: 0     train_loss: 3.4631, train_acc: 0.508     val_loss: 1.0486, val_acc: 0.579\n",
          "output_type": "stream"
        },
        {
          "name": "stderr",
          "text": "  2%|▏         | 1/50 [02:36<2:08:12, 156.99s/it]",
          "output_type": "stream"
        },
        {
          "name": "stdout",
          "text": "EPOCH: 1     train_loss: 1.0680, train_acc: 0.571     val_loss: 1.0245, val_acc: 0.575\n",
          "output_type": "stream"
        },
        {
          "name": "stderr",
          "text": "  4%|▍         | 2/50 [04:08<1:34:57, 118.71s/it]",
          "output_type": "stream"
        },
        {
          "name": "stdout",
          "text": "EPOCH: 2     train_loss: 1.0331, train_acc: 0.583     val_loss: 0.9439, val_acc: 0.626\n",
          "output_type": "stream"
        },
        {
          "name": "stderr",
          "text": "  6%|▌         | 3/50 [05:42<1:23:55, 107.14s/it]",
          "output_type": "stream"
        },
        {
          "name": "stdout",
          "text": "EPOCH: 3     train_loss: 1.0194, train_acc: 0.593     val_loss: 1.0026, val_acc: 0.589\n",
          "output_type": "stream"
        },
        {
          "name": "stderr",
          "text": "  8%|▊         | 4/50 [07:14<1:17:43, 101.37s/it]",
          "output_type": "stream"
        },
        {
          "name": "stdout",
          "text": "EPOCH: 4     train_loss: 0.9906, train_acc: 0.598     val_loss: 0.9309, val_acc: 0.625\n",
          "output_type": "stream"
        },
        {
          "name": "stderr",
          "text": " 10%|█         | 5/50 [08:47<1:13:37, 98.17s/it] ",
          "output_type": "stream"
        },
        {
          "name": "stdout",
          "text": "EPOCH: 5     train_loss: 0.9922, train_acc: 0.593     val_loss: 0.8931, val_acc: 0.627\n",
          "output_type": "stream"
        },
        {
          "name": "stderr",
          "text": " 12%|█▏        | 6/50 [10:20<1:10:44, 96.47s/it]",
          "output_type": "stream"
        },
        {
          "name": "stdout",
          "text": "EPOCH: 6     train_loss: 0.9724, train_acc: 0.602     val_loss: 0.9818, val_acc: 0.605\n",
          "output_type": "stream"
        },
        {
          "name": "stderr",
          "text": " 14%|█▍        | 7/50 [11:52<1:08:09, 95.11s/it]",
          "output_type": "stream"
        },
        {
          "name": "stdout",
          "text": "EPOCH: 7     train_loss: 0.9634, train_acc: 0.609     val_loss: 0.9233, val_acc: 0.624\n",
          "output_type": "stream"
        },
        {
          "name": "stderr",
          "text": " 16%|█▌        | 8/50 [13:24<1:05:54, 94.16s/it]",
          "output_type": "stream"
        },
        {
          "name": "stdout",
          "text": "EPOCH: 8     train_loss: 0.9322, train_acc: 0.617     val_loss: 0.9094, val_acc: 0.637\n",
          "output_type": "stream"
        },
        {
          "name": "stderr",
          "text": " 18%|█▊        | 9/50 [14:57<1:03:54, 93.52s/it]",
          "output_type": "stream"
        },
        {
          "name": "stdout",
          "text": "EPOCH: 9     train_loss: 0.9312, train_acc: 0.618     val_loss: 0.8883, val_acc: 0.640\n",
          "output_type": "stream"
        },
        {
          "name": "stderr",
          "text": " 20%|██        | 10/50 [16:29<1:02:11, 93.30s/it]",
          "output_type": "stream"
        },
        {
          "name": "stdout",
          "text": "EPOCH: 10     train_loss: 0.9195, train_acc: 0.616     val_loss: 0.8839, val_acc: 0.642\n",
          "output_type": "stream"
        },
        {
          "name": "stderr",
          "text": " 22%|██▏       | 11/50 [18:02<1:00:25, 92.97s/it]",
          "output_type": "stream"
        },
        {
          "name": "stdout",
          "text": "EPOCH: 11     train_loss: 0.9146, train_acc: 0.620     val_loss: 0.9241, val_acc: 0.632\n",
          "output_type": "stream"
        },
        {
          "name": "stderr",
          "text": " 24%|██▍       | 12/50 [19:34<58:44, 92.74s/it]  ",
          "output_type": "stream"
        },
        {
          "name": "stdout",
          "text": "EPOCH: 12     train_loss: 0.9058, train_acc: 0.627     val_loss: 0.9450, val_acc: 0.595\n",
          "output_type": "stream"
        },
        {
          "name": "stderr",
          "text": " 26%|██▌       | 13/50 [21:07<57:13, 92.79s/it]",
          "output_type": "stream"
        },
        {
          "name": "stdout",
          "text": "EPOCH: 13     train_loss: 0.8998, train_acc: 0.631     val_loss: 0.9152, val_acc: 0.626\n",
          "output_type": "stream"
        },
        {
          "name": "stderr",
          "text": " 28%|██▊       | 14/50 [22:40<55:45, 92.94s/it]",
          "output_type": "stream"
        },
        {
          "name": "stdout",
          "text": "EPOCH: 14     train_loss: 0.8897, train_acc: 0.630     val_loss: 0.8496, val_acc: 0.638\n",
          "output_type": "stream"
        },
        {
          "name": "stderr",
          "text": " 30%|███       | 15/50 [24:12<54:05, 92.72s/it]",
          "output_type": "stream"
        },
        {
          "name": "stdout",
          "text": "EPOCH: 15     train_loss: 0.8764, train_acc: 0.637     val_loss: 0.8191, val_acc: 0.659\n",
          "output_type": "stream"
        },
        {
          "name": "stderr",
          "text": " 32%|███▏      | 16/50 [25:46<52:40, 92.96s/it]",
          "output_type": "stream"
        },
        {
          "name": "stdout",
          "text": "EPOCH: 16     train_loss: 0.8757, train_acc: 0.637     val_loss: 0.8874, val_acc: 0.642\n",
          "output_type": "stream"
        },
        {
          "name": "stderr",
          "text": " 34%|███▍      | 17/50 [27:19<51:10, 93.04s/it]",
          "output_type": "stream"
        },
        {
          "name": "stdout",
          "text": "EPOCH: 17     train_loss: 0.8568, train_acc: 0.642     val_loss: 0.8174, val_acc: 0.665\n",
          "output_type": "stream"
        },
        {
          "name": "stderr",
          "text": " 36%|███▌      | 18/50 [28:51<49:30, 92.84s/it]",
          "output_type": "stream"
        },
        {
          "name": "stdout",
          "text": "EPOCH: 18     train_loss: 0.8513, train_acc: 0.647     val_loss: 0.8182, val_acc: 0.664\n",
          "output_type": "stream"
        },
        {
          "name": "stderr",
          "text": " 38%|███▊      | 19/50 [30:25<48:03, 93.02s/it]",
          "output_type": "stream"
        },
        {
          "name": "stdout",
          "text": "EPOCH: 19     train_loss: 0.8612, train_acc: 0.642     val_loss: 0.7903, val_acc: 0.672\n",
          "output_type": "stream"
        },
        {
          "name": "stderr",
          "text": " 40%|████      | 20/50 [31:57<46:28, 92.95s/it]",
          "output_type": "stream"
        },
        {
          "name": "stdout",
          "text": "EPOCH: 20     train_loss: 0.8548, train_acc: 0.642     val_loss: 0.8236, val_acc: 0.663\n",
          "output_type": "stream"
        },
        {
          "name": "stderr",
          "text": " 42%|████▏     | 21/50 [33:30<44:55, 92.94s/it]",
          "output_type": "stream"
        },
        {
          "name": "stdout",
          "text": "EPOCH: 21     train_loss: 0.8409, train_acc: 0.646     val_loss: 0.8030, val_acc: 0.671\n",
          "output_type": "stream"
        },
        {
          "name": "stderr",
          "text": " 44%|████▍     | 22/50 [35:03<43:18, 92.79s/it]",
          "output_type": "stream"
        },
        {
          "name": "stdout",
          "text": "EPOCH: 22     train_loss: 0.8380, train_acc: 0.648     val_loss: 0.7954, val_acc: 0.662\n",
          "output_type": "stream"
        },
        {
          "name": "stderr",
          "text": " 46%|████▌     | 23/50 [36:36<41:46, 92.84s/it]",
          "output_type": "stream"
        },
        {
          "name": "stdout",
          "text": "EPOCH: 23     train_loss: 0.8386, train_acc: 0.650     val_loss: 0.8359, val_acc: 0.664\n",
          "output_type": "stream"
        },
        {
          "name": "stderr",
          "text": " 48%|████▊     | 24/50 [38:08<40:10, 92.73s/it]",
          "output_type": "stream"
        },
        {
          "name": "stdout",
          "text": "EPOCH: 24     train_loss: 0.8237, train_acc: 0.662     val_loss: 0.7652, val_acc: 0.681\n",
          "output_type": "stream"
        },
        {
          "name": "stderr",
          "text": " 50%|█████     | 25/50 [39:40<38:34, 92.57s/it]",
          "output_type": "stream"
        },
        {
          "name": "stdout",
          "text": "EPOCH: 25     train_loss: 0.8221, train_acc: 0.655     val_loss: 0.7756, val_acc: 0.675\n",
          "output_type": "stream"
        },
        {
          "name": "stderr",
          "text": " 52%|█████▏    | 26/50 [41:13<36:58, 92.43s/it]",
          "output_type": "stream"
        },
        {
          "name": "stdout",
          "text": "EPOCH: 26     train_loss: 0.8273, train_acc: 0.658     val_loss: 0.9118, val_acc: 0.611\n",
          "output_type": "stream"
        },
        {
          "name": "stderr",
          "text": " 54%|█████▍    | 27/50 [42:45<35:26, 92.45s/it]",
          "output_type": "stream"
        },
        {
          "name": "stdout",
          "text": "EPOCH: 27     train_loss: 0.8202, train_acc: 0.662     val_loss: 0.8314, val_acc: 0.631\n",
          "output_type": "stream"
        },
        {
          "name": "stderr",
          "text": " 56%|█████▌    | 28/50 [44:17<33:50, 92.28s/it]",
          "output_type": "stream"
        },
        {
          "name": "stdout",
          "text": "EPOCH: 28     train_loss: 0.8178, train_acc: 0.660     val_loss: 0.7822, val_acc: 0.672\n",
          "output_type": "stream"
        },
        {
          "name": "stderr",
          "text": " 58%|█████▊    | 29/50 [45:49<32:19, 92.34s/it]",
          "output_type": "stream"
        },
        {
          "name": "stdout",
          "text": "EPOCH: 29     train_loss: 0.8154, train_acc: 0.658     val_loss: 0.8047, val_acc: 0.657\n",
          "output_type": "stream"
        },
        {
          "name": "stderr",
          "text": " 58%|█████▊    | 29/50 [47:22<34:18, 98.01s/it]",
          "output_type": "stream"
        },
        {
          "name": "stdout",
          "text": "Earlystop!\n",
          "output_type": "stream"
        },
        {
          "name": "stderr",
          "text": "\n",
          "output_type": "stream"
        }
      ]
    },
    {
      "cell_type": "code",
      "source": [
        "plt.figure(figsize=(15,5))\n",
        "plt.subplot(1,2,1)\n",
        "plt.plot(logs['train_loss'],label='Train_Loss')\n",
        "plt.plot(logs['val_loss'],label='Validation_Loss')\n",
        "plt.title('Train_Loss & Validation_Loss',fontsize=20)\n",
        "plt.legend()\n",
        "plt.subplot(1,2,2)\n",
        "plt.plot(logs['train_acc'],label='Train_Accuracy')\n",
        "plt.plot(logs['val_acc'],label='Validation_Accuracy')\n",
        "plt.title('Train_Accuracy & Validation_Accuracy',fontsize=20)\n",
        "plt.legend()"
      ],
      "metadata": {
        "execution": {
          "iopub.status.busy": "2023-12-08T06:31:49.279534Z",
          "iopub.execute_input": "2023-12-08T06:31:49.279930Z",
          "iopub.status.idle": "2023-12-08T06:31:49.941171Z",
          "shell.execute_reply.started": "2023-12-08T06:31:49.279893Z",
          "shell.execute_reply": "2023-12-08T06:31:49.940125Z"
        },
        "trusted": true,
        "id": "RbF1w4ZIoEDz",
        "outputId": "8107463f-88cc-46bd-b5a6-3a617d4e01db"
      },
      "execution_count": null,
      "outputs": [
        {
          "execution_count": 17,
          "output_type": "execute_result",
          "data": {
            "text/plain": "<matplotlib.legend.Legend at 0x794938718760>"
          },
          "metadata": {}
        },
        {
          "output_type": "display_data",
          "data": {
            "text/plain": "<Figure size 1500x500 with 2 Axes>",
            "image/png": "[encoded data removed]"
          },
          "metadata": {}
        }
      ]
    },
    {
      "cell_type": "code",
      "source": [],
      "metadata": {
        "id": "fz-BF6q6oED0"
      },
      "execution_count": null,
      "outputs": []
    }
  ]
}